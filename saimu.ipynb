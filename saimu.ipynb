{
 "cells": [
  {
   "cell_type": "code",
   "execution_count": 1,
   "metadata": {},
   "outputs": [
    {
     "name": "stdout",
     "output_type": "stream",
     "text": [
      "            id    loan_amnt     term  interest_rate grade employment_length  \\\n",
      "0            0   609.296068  3 years       8.421982    A5           0 years   \n",
      "1            1  1183.266999  5 years      10.286776    B1          10 years   \n",
      "2            2   695.783256  3 years      14.723425    C2            1 year   \n",
      "3            3   738.392546  3 years      14.260708    C1           0 years   \n",
      "4            4  1642.400654  5 years      25.217452    E5          10 years   \n",
      "...        ...          ...      ...            ...   ...               ...   \n",
      "242145  242145  2427.939262  3 years      13.673803    B4           8 years   \n",
      "242146  242146  1224.346665  3 years      11.793595    B3          10 years   \n",
      "242147  242147  2089.513458  3 years       8.218123    A4            1 year   \n",
      "242148  242148  3459.367114  3 years      14.875958    C2           9 years   \n",
      "242149  242149  2464.766281  3 years      17.052682    D1           6 years   \n",
      "\n",
      "                   purpose  credit_score application_type loan_status  \n",
      "0       debt_consolidation    714.061803       Individual   FullyPaid  \n",
      "1              credit_card    697.706701       Individual  ChargedOff  \n",
      "2       debt_consolidation    656.419357       Individual   FullyPaid  \n",
      "3              credit_card    657.906852       Individual   FullyPaid  \n",
      "4       debt_consolidation    662.972297       Individual   FullyPaid  \n",
      "...                    ...           ...              ...         ...  \n",
      "242145  debt_consolidation    657.206417       Individual   FullyPaid  \n",
      "242146  debt_consolidation    699.763028       Individual  ChargedOff  \n",
      "242147               other    724.556339       Individual   FullyPaid  \n",
      "242148  debt_consolidation    688.249378       Individual   FullyPaid  \n",
      "242149  debt_consolidation    658.274675       Individual   FullyPaid  \n",
      "\n",
      "[242150 rows x 10 columns]\n",
      "A5\n"
     ]
    }
   ],
   "source": [
    "import pandas as pd \n",
    "\n",
    "# データの読み込み\n",
    "loans = pd.read_csv('train.csv')\n",
    "\n",
    "# データの表示\n",
    "print(loans)\n",
    "\n",
    "# 表示されたデータを見て、grade列の1行目の値を代入\n",
    "grade = loans['grade'].iloc[0]\n",
    "print(grade)"
   ]
  },
  {
   "cell_type": "code",
   "execution_count": 2,
   "metadata": {},
   "outputs": [
    {
     "name": "stdout",
     "output_type": "stream",
     "text": [
      "A5\n"
     ]
    }
   ],
   "source": [
    "print(grade)"
   ]
  },
  {
   "cell_type": "code",
   "execution_count": 3,
   "metadata": {},
   "outputs": [
    {
     "name": "stdout",
     "output_type": "stream",
     "text": [
      "   id    loan_amnt     term  interest_rate grade employment_length  \\\n",
      "0   0   609.296068  3 years       8.421982    A5           0 years   \n",
      "1   1  1183.266999  5 years      10.286776    B1          10 years   \n",
      "2   2   695.783256  3 years      14.723425    C2            1 year   \n",
      "3   3   738.392546  3 years      14.260708    C1           0 years   \n",
      "4   4  1642.400654  5 years      25.217452    E5          10 years   \n",
      "5   5  3502.170573  5 years      22.868578    D5           2 years   \n",
      "6   6   637.726335  3 years      13.791424    B4          10 years   \n",
      "7   7  2147.822844  5 years      23.738449    A3          10 years   \n",
      "8   8   548.580817  3 years      18.070056    D3          10 years   \n",
      "9   9   701.824350  3 years      11.321683    B4           0 years   \n",
      "\n",
      "              purpose  credit_score application_type loan_status  \n",
      "0  debt_consolidation    714.061803       Individual   FullyPaid  \n",
      "1         credit_card    697.706701       Individual  ChargedOff  \n",
      "2  debt_consolidation    656.419357       Individual   FullyPaid  \n",
      "3         credit_card    657.906852       Individual   FullyPaid  \n",
      "4  debt_consolidation    662.972297       Individual   FullyPaid  \n",
      "5  debt_consolidation    663.337598       Individual   FullyPaid  \n",
      "6             medical    718.177679       Individual   FullyPaid  \n",
      "7  debt_consolidation    656.789397       Individual  ChargedOff  \n",
      "8  debt_consolidation    660.005551       Individual   FullyPaid  \n",
      "9         credit_card    656.609116       Individual  ChargedOff  \n"
     ]
    }
   ],
   "source": [
    "print(loans.head(10))"
   ]
  },
  {
   "cell_type": "code",
   "execution_count": 4,
   "metadata": {},
   "outputs": [
    {
     "name": "stdout",
     "output_type": "stream",
     "text": [
      "(242150, 10)\n",
      "10\n"
     ]
    }
   ],
   "source": [
    "print(loans.shape)\n",
    "\n",
    "# 列数だけを抽出\n",
    "length = loans.shape[1] \n",
    "\n",
    "# 変数lengthを表示\n",
    "print(length)"
   ]
  },
  {
   "cell_type": "code",
   "execution_count": 5,
   "metadata": {},
   "outputs": [
    {
     "name": "stdout",
     "output_type": "stream",
     "text": [
      "FullyPaid     199794\n",
      "ChargedOff     42356\n",
      "Name: loan_status, dtype: int64\n"
     ]
    }
   ],
   "source": [
    "print(loans['loan_status'].value_counts())"
   ]
  },
  {
   "cell_type": "code",
   "execution_count": 6,
   "metadata": {},
   "outputs": [],
   "source": [
    "loans = loans[(loans['loan_status'] == 'FullyPaid') | (loans['loan_status'] == 'ChargedOff')]"
   ]
  },
  {
   "cell_type": "code",
   "execution_count": 7,
   "metadata": {},
   "outputs": [
    {
     "name": "stdout",
     "output_type": "stream",
     "text": [
      "   id    loan_amnt     term  interest_rate grade employment_length  \\\n",
      "0   0   609.296068  3 years       8.421982    A5           0 years   \n",
      "1   1  1183.266999  5 years      10.286776    B1          10 years   \n",
      "2   2   695.783256  3 years      14.723425    C2            1 year   \n",
      "3   3   738.392546  3 years      14.260708    C1           0 years   \n",
      "4   4  1642.400654  5 years      25.217452    E5          10 years   \n",
      "\n",
      "              purpose  credit_score application_type loan_status  \n",
      "0  debt_consolidation    714.061803       Individual   FullyPaid  \n",
      "1         credit_card    697.706701       Individual  ChargedOff  \n",
      "2  debt_consolidation    656.419357       Individual   FullyPaid  \n",
      "3         credit_card    657.906852       Individual   FullyPaid  \n",
      "4  debt_consolidation    662.972297       Individual   FullyPaid  \n"
     ]
    }
   ],
   "source": [
    "print(loans.head())"
   ]
  },
  {
   "cell_type": "code",
   "execution_count": 8,
   "metadata": {},
   "outputs": [],
   "source": [
    "loans = loans.drop(columns=['id'])"
   ]
  },
  {
   "cell_type": "code",
   "execution_count": 9,
   "metadata": {},
   "outputs": [
    {
     "name": "stdout",
     "output_type": "stream",
     "text": [
      "     loan_amnt     term  interest_rate grade employment_length  \\\n",
      "0   609.296068  3 years       8.421982    A5           0 years   \n",
      "1  1183.266999  5 years      10.286776    B1          10 years   \n",
      "2   695.783256  3 years      14.723425    C2            1 year   \n",
      "3   738.392546  3 years      14.260708    C1           0 years   \n",
      "4  1642.400654  5 years      25.217452    E5          10 years   \n",
      "\n",
      "              purpose  credit_score application_type loan_status  \n",
      "0  debt_consolidation    714.061803       Individual   FullyPaid  \n",
      "1         credit_card    697.706701       Individual  ChargedOff  \n",
      "2  debt_consolidation    656.419357       Individual   FullyPaid  \n",
      "3         credit_card    657.906852       Individual   FullyPaid  \n",
      "4  debt_consolidation    662.972297       Individual   FullyPaid  \n"
     ]
    }
   ],
   "source": [
    "print(loans.head())"
   ]
  },
  {
   "cell_type": "code",
   "execution_count": 10,
   "metadata": {},
   "outputs": [
    {
     "name": "stdout",
     "output_type": "stream",
     "text": [
      "        loan_amnt   term  interest_rate  grade  employment_length  purpose  \\\n",
      "0           False  False          False  False              False    False   \n",
      "1           False  False          False  False              False    False   \n",
      "2           False  False          False  False              False    False   \n",
      "3           False  False          False  False              False    False   \n",
      "4           False  False          False  False              False    False   \n",
      "...           ...    ...            ...    ...                ...      ...   \n",
      "242145      False  False          False  False              False    False   \n",
      "242146      False  False          False  False              False    False   \n",
      "242147      False  False          False  False              False    False   \n",
      "242148      False  False          False  False              False    False   \n",
      "242149      False  False          False  False              False    False   \n",
      "\n",
      "        credit_score  application_type  loan_status  \n",
      "0              False             False        False  \n",
      "1              False             False        False  \n",
      "2              False             False        False  \n",
      "3              False             False        False  \n",
      "4              False             False        False  \n",
      "...              ...               ...          ...  \n",
      "242145         False             False        False  \n",
      "242146         False             False        False  \n",
      "242147         False             False        False  \n",
      "242148         False             False        False  \n",
      "242149         False             False        False  \n",
      "\n",
      "[242150 rows x 9 columns]\n"
     ]
    }
   ],
   "source": [
    "print(loans.isnull())"
   ]
  },
  {
   "cell_type": "code",
   "execution_count": 11,
   "metadata": {},
   "outputs": [
    {
     "name": "stdout",
     "output_type": "stream",
     "text": [
      "loan_amnt            0\n",
      "term                 0\n",
      "interest_rate        0\n",
      "grade                0\n",
      "employment_length    0\n",
      "purpose              0\n",
      "credit_score         0\n",
      "application_type     0\n",
      "loan_status          0\n",
      "dtype: int64\n"
     ]
    }
   ],
   "source": [
    "print(loans.isnull().sum())"
   ]
  },
  {
   "cell_type": "code",
   "execution_count": 12,
   "metadata": {},
   "outputs": [
    {
     "name": "stdout",
     "output_type": "stream",
     "text": [
      "           loan_amnt  interest_rate   credit_score\n",
      "count  242150.000000  242150.000000  242150.000000\n",
      "mean     1520.389009      13.801496     683.575024\n",
      "std       830.250197       4.588924      29.554795\n",
      "min       323.797279       5.704849     655.424269\n",
      "25%       761.954545      10.876086     659.531106\n",
      "50%      1212.680586      13.543833     678.672563\n",
      "75%      2152.213330      17.172395     698.591960\n",
      "max      3851.867974      27.980604     808.551641\n"
     ]
    }
   ],
   "source": [
    "print(loans.describe())"
   ]
  },
  {
   "cell_type": "code",
   "execution_count": 13,
   "metadata": {},
   "outputs": [
    {
     "name": "stdout",
     "output_type": "stream",
     "text": [
      "           term   grade employment_length             purpose  \\\n",
      "count    242150  242150            242150              242150   \n",
      "unique        2      27                11                   9   \n",
      "top     3 years      C4          10 years  debt_consolidation   \n",
      "freq     189887   18936            103339              160207   \n",
      "\n",
      "       application_type loan_status  \n",
      "count            242150      242150  \n",
      "unique                2           2  \n",
      "top          Individual   FullyPaid  \n",
      "freq             240368      199794  \n"
     ]
    }
   ],
   "source": [
    "\n",
    "print(loans.describe(include=['O']))"
   ]
  },
  {
   "cell_type": "code",
   "execution_count": 16,
   "metadata": {},
   "outputs": [
    {
     "data": {
      "image/png": "[encoded data removed]",
      "text/plain": [
       "<Figure size 432x288 with 1 Axes>"
      ]
     },
     "metadata": {
      "needs_background": "light"
     },
     "output_type": "display_data"
    }
   ],
   "source": [
    "from matplotlib import pyplot as plt\n",
    "loan_amnt_var = loans['loan_amnt']\n",
    "loan_amnt_var.plot.hist(title='loan_amnt')\n",
    "plt.show()"
   ]
  },
  {
   "cell_type": "code",
   "execution_count": null,
   "metadata": {},
   "outputs": [],
   "source": []
  }
 ],
 "metadata": {
  "kernelspec": {
   "display_name": "Python 3",
   "language": "python",
   "name": "python3"
  },
  "language_info": {
   "codemirror_mode": {
    "name": "ipython",
    "version": 3
   },
   "file_extension": ".py",
   "mimetype": "text/x-python",
   "name": "python",
   "nbconvert_exporter": "python",
   "pygments_lexer": "ipython3",
   "version": "3.7.4"
  }
 },
 "nbformat": 4,
 "nbformat_minor": 4
}
